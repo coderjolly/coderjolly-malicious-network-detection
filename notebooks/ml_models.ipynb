{
  "cells": [
    {
      "cell_type": "code",
      "execution_count": 2,
      "metadata": {
        "id": "DAkOmIadgwMC"
      },
      "outputs": [],
      "source": [
        "import pandas as pd\n",
        "import numpy as np\n",
        "import seaborn as sns\n",
        "import matplotlib.pyplot as plt\n",
        "%matplotlib inline"
      ]
    },
    {
      "cell_type": "code",
      "execution_count": null,
      "metadata": {},
      "outputs": [],
      "source": [
        "from sklearn.model_selection import train_test_split\n",
        "from sklearn import metrics\n",
        "from sklearn.metrics import accuracy_score, mean_absolute_error,confusion_matrix,classification_report\n",
        "from sklearn.ensemble import RandomForestClassifier, AdaBoostClassifier\n",
        "!pip install scikit-multilearn\n",
        "from sklearn.multioutput import ClassifierChain\n",
        "from skmultilearn.problem_transform import LabelPowerset\n",
        "from sklearn.model_selection import train_test_split\n",
        "from sklearn.preprocessing import OneHotEncoder\n",
        "import pickle"
      ]
    },
    {
      "cell_type": "code",
      "execution_count": 4,
      "metadata": {
        "id": "2pPts0JAg22I"
      },
      "outputs": [],
      "source": [
        "df1=pd.read_csv('content/semi_processed_5.csv')"
      ]
    },
    {
      "cell_type": "code",
      "execution_count": 5,
      "metadata": {
        "colab": {
          "base_uri": "https://localhost:8080/"
        },
        "id": "lmAiJPVLmVLd",
        "outputId": "b0994316-6766-4503-f2a3-0b55740c7ade"
      },
      "outputs": [
        {
          "data": {
            "text/plain": [
              "Index(['ActionPerformed', 'ConnectionClassification', 'Priority', 'Date-Time',\n",
              "       'SourceIP', 'SourcePort', 'DestinationIP', 'DestinationPort',\n",
              "       'TimeToLive', 'TypeOfService', 'DataGramLength', 'AllFlags', 'Seq',\n",
              "       'Ack', 'Win', 'TCP_length', 'TCP_Options', 'NOP_NOP_TS', 'MSS',\n",
              "       'NOP_WS'],\n",
              "      dtype='object')"
            ]
          },
          "execution_count": 5,
          "metadata": {},
          "output_type": "execute_result"
        }
      ],
      "source": [
        "df1.columns"
      ]
    },
    {
      "cell_type": "code",
      "execution_count": 6,
      "metadata": {
        "id": "WymsPFuMmOXw"
      },
      "outputs": [],
      "source": [
        "df1.drop(['Date-Time','Seq',\n",
        "       'Ack', 'Win',], axis=1, inplace=True)"
      ]
    },
    {
      "cell_type": "code",
      "execution_count": 7,
      "metadata": {
        "id": "oH54ds8jm2VW"
      },
      "outputs": [],
      "source": [
        "df1['ActionPerformed'] = df1['ActionPerformed'].str.replace('<', '') "
      ]
    },
    {
      "cell_type": "code",
      "execution_count": 8,
      "metadata": {
        "id": "5pxSnA83oG3g"
      },
      "outputs": [],
      "source": [
        "df1.columns = df1.columns.str.replace(' ', '') "
      ]
    },
    {
      "cell_type": "code",
      "execution_count": 9,
      "metadata": {
        "id": "otf2lokohPY_"
      },
      "outputs": [],
      "source": [
        "df=pd.get_dummies(data=df1, columns=['ActionPerformed', 'Priority',\n",
        "       'SourceIP','DestinationIP', 'DestinationPort',\n",
        "       'TimeToLive', 'TypeOfService', 'DataGramLength', 'AllFlags', 'TCP_length', 'TCP_Options','MSS',\n",
        "       'NOP_WS'], drop_first=True)"
      ]
    },
    {
      "cell_type": "code",
      "execution_count": 10,
      "metadata": {
        "colab": {
          "base_uri": "https://localhost:8080/"
        },
        "id": "rgrjLoeChZ-o",
        "outputId": "bbe6e4c9-ee3b-45da-cc1c-88b2b5a5a60e"
      },
      "outputs": [
        {
          "data": {
            "text/plain": [
              "Index(['ConnectionClassification', 'SourcePort', 'NOP_NOP_TS',\n",
              "       'ActionPerformed_ (http_inspect) BARE BYTE UNICODE ENCODING  ',\n",
              "       'ActionPerformed_ (http_inspect) DOUBLE DECODING ATTACK  ',\n",
              "       'ActionPerformed_ (http_inspect) IIS UNICODE CODEPOINT ENCODING  ',\n",
              "       'ActionPerformed_ (http_inspect) OVERSIZE CHUNK ENCODING  ',\n",
              "       'ActionPerformed_ (http_inspect) OVERSIZE REQUEST-URI DIRECTORY  ',\n",
              "       'ActionPerformed_ (http_inspect) U ENCODING  ',\n",
              "       'ActionPerformed_ (http_inspect) WEBROOT DIRECTORY TRAVERSAL  ',\n",
              "       ...\n",
              "       'TCP_length_28.0', 'TCP_length_32.0', 'TCP_length_40.0',\n",
              "       'TCP_Options_1.0', 'TCP_Options_3.0', 'TCP_Options_5.0', 'MSS_1160',\n",
              "       'MSS_1460', 'NOP_WS_3', 'NOP_WS_6'],\n",
              "      dtype='object', length=2662)"
            ]
          },
          "execution_count": 10,
          "metadata": {},
          "output_type": "execute_result"
        }
      ],
      "source": [
        "df.columns"
      ]
    },
    {
      "cell_type": "code",
      "execution_count": 11,
      "metadata": {
        "id": "cM1RUJhro9-C"
      },
      "outputs": [],
      "source": [
        "df.to_csv(\"final_data.csv\", index=False)"
      ]
    },
    {
      "cell_type": "code",
      "execution_count": 35,
      "metadata": {
        "id": "Geuf_EhvhlIh"
      },
      "outputs": [],
      "source": [
        "from sklearn.model_selection import train_test_split"
      ]
    },
    {
      "cell_type": "code",
      "execution_count": 36,
      "metadata": {
        "id": "yStfluBRhpUV"
      },
      "outputs": [],
      "source": [
        "X=df.drop(['ConnectionClassification'], axis=1)\n",
        "y=df['ConnectionClassification']"
      ]
    },
    {
      "cell_type": "code",
      "execution_count": 37,
      "metadata": {
        "colab": {
          "base_uri": "https://localhost:8080/"
        },
        "id": "iunBfHEdixPN",
        "outputId": "5bdf2e13-e983-4f1f-8a58-468d0e876ea9"
      },
      "outputs": [
        {
          "data": {
            "text/plain": [
              "Index(['SourcePort', 'NOP_NOP_TS',\n",
              "       'ActionPerformed_b'(http_inspect)BAREBYTEUNICODEENCODING'',\n",
              "       'ActionPerformed_b'(http_inspect)DOUBLEDECODINGATTACK'',\n",
              "       'ActionPerformed_b'(http_inspect)IISUNICODECODEPOINTENCODING'',\n",
              "       'ActionPerformed_b'(http_inspect)OVERSIZECHUNKENCODING'',\n",
              "       'ActionPerformed_b'(http_inspect)OVERSIZEREQUEST-URIDIRECTORY'',\n",
              "       'ActionPerformed_b'(http_inspect)UENCODING'',\n",
              "       'ActionPerformed_b'(http_inspect)WEBROOTDIRECTORYTRAVERSAL'',\n",
              "       'ActionPerformed_b'(smtp)Attemptedheadernamebufferoverflow:121charsbeforecolon'',\n",
              "       ...\n",
              "       'TCP_length_28.0', 'TCP_length_32.0', 'TCP_length_40.0',\n",
              "       'TCP_Options_1.0', 'TCP_Options_3.0', 'TCP_Options_5.0', 'MSS_1160',\n",
              "       'MSS_1460', 'NOP_WS_3', 'NOP_WS_6'],\n",
              "      dtype='object', length=2660)"
            ]
          },
          "execution_count": 37,
          "metadata": {
            "tags": []
          },
          "output_type": "execute_result"
        }
      ],
      "source": [
        "X.columns"
      ]
    },
    {
      "cell_type": "markdown",
      "metadata": {},
      "source": [
        "Splitting the dataset into training and testing dataset"
      ]
    },
    {
      "cell_type": "code",
      "execution_count": 38,
      "metadata": {
        "id": "f8a_KK5dhrwi"
      },
      "outputs": [],
      "source": [
        "X_train, X_test, y_train, y_test = train_test_split(X, y, test_size=0.25, random_state=0)"
      ]
    },
    {
      "cell_type": "markdown",
      "metadata": {},
      "source": [
        "### XGBoost Classfier"
      ]
    },
    {
      "cell_type": "code",
      "execution_count": 39,
      "metadata": {
        "id": "UXefwk4ehb5f"
      },
      "outputs": [],
      "source": [
        "import time\n",
        "from xgboost import XGBClassifier"
      ]
    },
    {
      "cell_type": "code",
      "execution_count": 42,
      "metadata": {
        "id": "NS0w9RT6hhCV"
      },
      "outputs": [],
      "source": [
        "xgbmodel = XGBClassifier(tree_method = \"gpu_hist\",early_stopping=10,n_estimators=500, random_state=0)"
      ]
    },
    {
      "cell_type": "code",
      "execution_count": 43,
      "metadata": {
        "colab": {
          "base_uri": "https://localhost:8080/"
        },
        "id": "7v1F0XhXj9Mo",
        "outputId": "4f40d4af-0488-4027-b0cc-76c534585b21"
      },
      "outputs": [
        {
          "name": "stdout",
          "output_type": "stream",
          "text": [
            "CPU times: user 5.52 s, sys: 522 ms, total: 6.04 s\n",
            "Wall time: 6.02 s\n"
          ]
        },
        {
          "data": {
            "text/plain": [
              "XGBClassifier(base_score=0.5, booster='gbtree', colsample_bylevel=1,\n",
              "              colsample_bynode=1, colsample_bytree=1, early_stopping=10,\n",
              "              gamma=0, learning_rate=0.1, max_delta_step=0, max_depth=3,\n",
              "              min_child_weight=1, missing=None, n_estimators=500, n_jobs=1,\n",
              "              nthread=None, objective='binary:logistic', random_state=0,\n",
              "              reg_alpha=0, reg_lambda=1, scale_pos_weight=1, seed=None,\n",
              "              silent=None, subsample=1, tree_method='gpu_hist', verbosity=1)"
            ]
          },
          "execution_count": 43,
          "metadata": {
            "tags": []
          },
          "output_type": "execute_result"
        }
      ],
      "source": [
        "# fit the model\n",
        "%time xgbmodel.fit(X_train, y_train)"
      ]
    },
    {
      "cell_type": "code",
      "execution_count": 45,
      "metadata": {
        "colab": {
          "base_uri": "https://localhost:8080/"
        },
        "id": "vBwnZpWYomYY",
        "outputId": "3fb94bba-c12f-45ec-a110-e3d24b0a6f44"
      },
      "outputs": [
        {
          "name": "stdout",
          "output_type": "stream",
          "text": [
            "              precision    recall  f1-score   support\n",
            "\n",
            "           0       1.00      1.00      1.00      1666\n",
            "           1       1.00      1.00      1.00      4157\n",
            "\n",
            "    accuracy                           1.00      5823\n",
            "   macro avg       1.00      1.00      1.00      5823\n",
            "weighted avg       1.00      1.00      1.00      5823\n",
            "\n"
          ]
        }
      ],
      "source": [
        "# XGB model assessment\n",
        "pred_test_xgb = xgbmodel.predict(X_test)\n",
        "pred_train_xgb = xgbmodel.predict(X_train)\n",
        "\n",
        "print(classification_report(y_test, pred_test_xgb))"
      ]
    },
    {
      "cell_type": "code",
      "execution_count": 46,
      "metadata": {
        "colab": {
          "base_uri": "https://localhost:8080/"
        },
        "id": "2yB28NTpoqfE",
        "outputId": "38e59c65-ac2f-4dcc-cbd6-dbcd4687b769"
      },
      "outputs": [
        {
          "name": "stdout",
          "output_type": "stream",
          "text": [
            "Train Accuracy:  1.0\n",
            "Test Accuraccy:  1.0\n"
          ]
        }
      ],
      "source": [
        "print('Train Accuracy: ', accuracy_score(y_train, pred_train_xgb))\n",
        "print('Test Accuraccy: ', accuracy_score(y_test, pred_test_xgb))"
      ]
    },
    {
      "cell_type": "code",
      "execution_count": 50,
      "metadata": {
        "id": "f285jvkDq1_Z"
      },
      "outputs": [],
      "source": [
        "# save the XGB model to disk\n",
        "filename = 'xgb_model.pkl'\n",
        "pickle.dump(xgbmodel, open(filename, 'wb'))"
      ]
    },
    {
      "cell_type": "markdown",
      "metadata": {},
      "source": [
        "### Random Forest Classifier"
      ]
    },
    {
      "cell_type": "code",
      "execution_count": 53,
      "metadata": {
        "id": "wjGjI6M2rugz"
      },
      "outputs": [],
      "source": [
        "rfcmodel = RandomForestClassifier(n_estimators=100)"
      ]
    },
    {
      "cell_type": "code",
      "execution_count": 54,
      "metadata": {
        "colab": {
          "base_uri": "https://localhost:8080/"
        },
        "id": "IzpiEPwZrydy",
        "outputId": "a1ec84df-9c3b-4adb-adeb-d5a17e71734d"
      },
      "outputs": [
        {
          "data": {
            "text/plain": [
              "RandomForestClassifier(bootstrap=True, ccp_alpha=0.0, class_weight=None,\n",
              "                       criterion='gini', max_depth=None, max_features='auto',\n",
              "                       max_leaf_nodes=None, max_samples=None,\n",
              "                       min_impurity_decrease=0.0, min_impurity_split=None,\n",
              "                       min_samples_leaf=1, min_samples_split=2,\n",
              "                       min_weight_fraction_leaf=0.0, n_estimators=100,\n",
              "                       n_jobs=None, oob_score=False, random_state=None,\n",
              "                       verbose=0, warm_start=False)"
            ]
          },
          "execution_count": 54,
          "metadata": {
            "tags": []
          },
          "output_type": "execute_result"
        }
      ],
      "source": [
        "rfcmodel.fit(X_train,y_train)"
      ]
    },
    {
      "cell_type": "code",
      "execution_count": 55,
      "metadata": {
        "colab": {
          "base_uri": "https://localhost:8080/"
        },
        "id": "RiS0J8HWr0Z4",
        "outputId": "38980d2d-a75d-4d4b-a83e-ad82b38c2a91"
      },
      "outputs": [
        {
          "name": "stdout",
          "output_type": "stream",
          "text": [
            "              precision    recall  f1-score   support\n",
            "\n",
            "           0       1.00      1.00      1.00      1666\n",
            "           1       1.00      1.00      1.00      4157\n",
            "\n",
            "    accuracy                           1.00      5823\n",
            "   macro avg       1.00      1.00      1.00      5823\n",
            "weighted avg       1.00      1.00      1.00      5823\n",
            "\n"
          ]
        }
      ],
      "source": [
        "# RFC model assessment\n",
        "pred_test_rfc = rfcmodel.predict(X_test)\n",
        "pred_train_rfc = rfcmodel.predict(X_train)\n",
        "\n",
        "print(classification_report(y_test,pred_test_rfc))"
      ]
    },
    {
      "cell_type": "code",
      "execution_count": 56,
      "metadata": {
        "colab": {
          "base_uri": "https://localhost:8080/"
        },
        "id": "Lfskvl-isE1l",
        "outputId": "7907fd06-38eb-4dc7-b106-9f77383acc84"
      },
      "outputs": [
        {
          "name": "stdout",
          "output_type": "stream",
          "text": [
            "Train Accuracy:  1.0\n",
            "Test Accuraccy:  1.0\n"
          ]
        }
      ],
      "source": [
        "print('Train Accuracy: ', accuracy_score(y_train, pred_train_rfc))\n",
        "print('Test Accuraccy: ', accuracy_score(y_test, pred_test_rfc))"
      ]
    },
    {
      "cell_type": "code",
      "execution_count": 61,
      "metadata": {
        "id": "s9Zrceg-ssXw"
      },
      "outputs": [],
      "source": [
        "# save the RFC model to disk\n",
        "filename = 'rfc_model.pkl'\n",
        "pickle.dump(rfcmodel, open(filename, 'wb'))"
      ]
    },
    {
      "cell_type": "markdown",
      "metadata": {},
      "source": [
        "### Adaboost Classifier"
      ]
    },
    {
      "cell_type": "code",
      "execution_count": 57,
      "metadata": {
        "id": "lZ6AJESjsPmQ"
      },
      "outputs": [],
      "source": [
        "adbmodel = AdaBoostClassifier(n_estimators=100)"
      ]
    },
    {
      "cell_type": "code",
      "execution_count": 58,
      "metadata": {
        "colab": {
          "base_uri": "https://localhost:8080/"
        },
        "id": "n5mPRm2NsUx3",
        "outputId": "916b2124-031c-48f1-afbd-7bb5faeaa89a"
      },
      "outputs": [
        {
          "data": {
            "text/plain": [
              "AdaBoostClassifier(algorithm='SAMME.R', base_estimator=None, learning_rate=1.0,\n",
              "                   n_estimators=100, random_state=None)"
            ]
          },
          "execution_count": 58,
          "metadata": {
            "tags": []
          },
          "output_type": "execute_result"
        }
      ],
      "source": [
        "adbmodel.fit(X_train,y_train)"
      ]
    },
    {
      "cell_type": "code",
      "execution_count": 59,
      "metadata": {
        "colab": {
          "base_uri": "https://localhost:8080/"
        },
        "id": "DZKkujBTsWte",
        "outputId": "8ceec7d3-a18e-4858-cc68-4b95bf74dffe"
      },
      "outputs": [
        {
          "name": "stdout",
          "output_type": "stream",
          "text": [
            "              precision    recall  f1-score   support\n",
            "\n",
            "           0       1.00      1.00      1.00      1666\n",
            "           1       1.00      1.00      1.00      4157\n",
            "\n",
            "    accuracy                           1.00      5823\n",
            "   macro avg       1.00      1.00      1.00      5823\n",
            "weighted avg       1.00      1.00      1.00      5823\n",
            "\n"
          ]
        }
      ],
      "source": [
        "# ADB model assessment\n",
        "pred_test_adb = ada.predict(X_test)\n",
        "pred_train_adb = ada.predict(X_train)\n",
        "\n",
        "print(classification_report(y_test,pred_test_adb))"
      ]
    },
    {
      "cell_type": "code",
      "execution_count": 60,
      "metadata": {
        "colab": {
          "base_uri": "https://localhost:8080/"
        },
        "id": "4_inOCfXsjGN",
        "outputId": "e6ded89b-7379-4335-a04c-716d8016e031"
      },
      "outputs": [
        {
          "name": "stdout",
          "output_type": "stream",
          "text": [
            "Train Accuracy:  1.0\n",
            "Test Accuraccy:  1.0\n"
          ]
        }
      ],
      "source": [
        "print('Train Accuracy: ', accuracy_score(y_train, pred_train_adb))\n",
        "print('Test Accuraccy: ', accuracy_score(y_test, pred_test_adb))"
      ]
    },
    {
      "cell_type": "code",
      "execution_count": 62,
      "metadata": {
        "id": "RszIobUmsoDx"
      },
      "outputs": [],
      "source": [
        "# save the ADB model to disk\n",
        "filename = 'adb_model.pkl'\n",
        "pickle.dump(adbmodel, open(filename, 'wb'))"
      ]
    }
  ],
  "metadata": {
    "accelerator": "GPU",
    "colab": {
      "collapsed_sections": [],
      "name": "572_ML.ipynb",
      "provenance": []
    },
    "kernelspec": {
      "display_name": "cyber",
      "language": "python",
      "name": "python3"
    },
    "language_info": {
      "codemirror_mode": {
        "name": "ipython",
        "version": 3
      },
      "file_extension": ".py",
      "mimetype": "text/x-python",
      "name": "python",
      "nbconvert_exporter": "python",
      "pygments_lexer": "ipython3",
      "version": "3.9.19"
    }
  },
  "nbformat": 4,
  "nbformat_minor": 0
}
